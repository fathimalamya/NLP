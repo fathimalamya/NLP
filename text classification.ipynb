{
 "cells": [
  {
   "cell_type": "code",
   "execution_count": 1,
   "id": "9022e749",
   "metadata": {
    "_cell_guid": "b1076dfc-b9ad-4769-8c92-a6c4dae69d19",
    "_uuid": "8f2839f25d086af736a60e9eeb907d3b93b6e0e5",
    "execution": {
     "iopub.execute_input": "2023-11-19T10:20:10.811200Z",
     "iopub.status.busy": "2023-11-19T10:20:10.810871Z",
     "iopub.status.idle": "2023-11-19T10:20:11.645026Z",
     "shell.execute_reply": "2023-11-19T10:20:11.643699Z"
    },
    "papermill": {
     "duration": 0.843855,
     "end_time": "2023-11-19T10:20:11.647247",
     "exception": false,
     "start_time": "2023-11-19T10:20:10.803392",
     "status": "completed"
    },
    "tags": []
   },
   "outputs": [
    {
     "name": "stdout",
     "output_type": "stream",
     "text": [
      "/kaggle/input/word2vec-nlp-tutorial/testData.tsv.zip\n",
      "/kaggle/input/word2vec-nlp-tutorial/sampleSubmission.csv\n",
      "/kaggle/input/word2vec-nlp-tutorial/unlabeledTrainData.tsv.zip\n",
      "/kaggle/input/word2vec-nlp-tutorial/labeledTrainData.tsv.zip\n"
     ]
    }
   ],
   "source": [
    "# This Python 3 environment comes with many helpful analytics libraries installed\n",
    "# It is defined by the kaggle/python Docker image: https://github.com/kaggle/docker-python\n",
    "# For example, here's several helpful packages to load\n",
    "\n",
    "import numpy as np # linear algebra\n",
    "import pandas as pd # data processing, CSV file I/O (e.g. pd.read_csv)\n",
    "\n",
    "# Input data files are available in the read-only \"../input/\" directory\n",
    "# For example, running this (by clicking run or pressing Shift+Enter) will list all files under the input directory\n",
    "\n",
    "import os\n",
    "for dirname, _, filenames in os.walk('/kaggle/input'):\n",
    "    for filename in filenames:\n",
    "        print(os.path.join(dirname, filename))\n",
    "\n",
    "# You can write up to 20GB to the current directory (/kaggle/working/) that gets preserved as output when you create a version using \"Save & Run All\" \n",
    "# You can also write temporary files to /kaggle/temp/, but they won't be saved outside of the current session"
   ]
  },
  {
   "cell_type": "code",
   "execution_count": 2,
   "id": "1cb329b0",
   "metadata": {
    "execution": {
     "iopub.execute_input": "2023-11-19T10:20:11.661107Z",
     "iopub.status.busy": "2023-11-19T10:20:11.660647Z",
     "iopub.status.idle": "2023-11-19T10:20:26.073345Z",
     "shell.execute_reply": "2023-11-19T10:20:26.072427Z"
    },
    "papermill": {
     "duration": 14.421767,
     "end_time": "2023-11-19T10:20:26.075546",
     "exception": false,
     "start_time": "2023-11-19T10:20:11.653779",
     "status": "completed"
    },
    "tags": []
   },
   "outputs": [
    {
     "name": "stderr",
     "output_type": "stream",
     "text": [
      "/opt/conda/lib/python3.10/site-packages/scipy/__init__.py:146: UserWarning: A NumPy version >=1.16.5 and <1.23.0 is required for this version of SciPy (detected version 1.24.3\n",
      "  warnings.warn(f\"A NumPy version >={np_minversion} and <{np_maxversion}\"\n"
     ]
    }
   ],
   "source": [
    "import numpy as np\n",
    "import pandas as pd\n",
    "from bs4 import BeautifulSoup\n",
    "import re\n",
    "import nltk\n",
    "import os\n",
    "from sklearn.model_selection import train_test_split\n",
    "import tensorflow as tf\n",
    "from tensorflow.keras import callbacks, models, layers\n",
    "import matplotlib.pyplot as plt\n",
    "\n",
    "# tokenization\n",
    "from tensorflow.keras.preprocessing.text import Tokenizer\n",
    "from tensorflow.keras.preprocessing.sequence import pad_sequences\n",
    "\n",
    "# bag of words"
   ]
  },
  {
   "cell_type": "code",
   "execution_count": 3,
   "id": "8da69e44",
   "metadata": {
    "execution": {
     "iopub.execute_input": "2023-11-19T10:20:26.089991Z",
     "iopub.status.busy": "2023-11-19T10:20:26.089424Z",
     "iopub.status.idle": "2023-11-19T10:20:26.093917Z",
     "shell.execute_reply": "2023-11-19T10:20:26.093091Z"
    },
    "papermill": {
     "duration": 0.013906,
     "end_time": "2023-11-19T10:20:26.095848",
     "exception": false,
     "start_time": "2023-11-19T10:20:26.081942",
     "status": "completed"
    },
    "tags": []
   },
   "outputs": [],
   "source": [
    "BASE = '/kaggle/input/word2vec-nlp-tutorial'\n",
    "MAX_WORDS = 25_000"
   ]
  },
  {
   "cell_type": "code",
   "execution_count": 4,
   "id": "4b6a3bba",
   "metadata": {
    "execution": {
     "iopub.execute_input": "2023-11-19T10:20:26.109414Z",
     "iopub.status.busy": "2023-11-19T10:20:26.109124Z",
     "iopub.status.idle": "2023-11-19T10:20:26.192038Z",
     "shell.execute_reply": "2023-11-19T10:20:26.190988Z"
    },
    "papermill": {
     "duration": 0.091959,
     "end_time": "2023-11-19T10:20:26.194019",
     "exception": false,
     "start_time": "2023-11-19T10:20:26.102060",
     "status": "completed"
    },
    "tags": []
   },
   "outputs": [
    {
     "name": "stdout",
     "output_type": "stream",
     "text": [
      "[nltk_data] Downloading package stopwords to /usr/share/nltk_data...\n",
      "[nltk_data]   Package stopwords is already up-to-date!\n"
     ]
    }
   ],
   "source": [
    "nltk.download('stopwords')\n",
    "from nltk.corpus import stopwords"
   ]
  },
  {
   "cell_type": "code",
   "execution_count": 5,
   "id": "bfdf0112",
   "metadata": {
    "execution": {
     "iopub.execute_input": "2023-11-19T10:20:26.207345Z",
     "iopub.status.busy": "2023-11-19T10:20:26.207070Z",
     "iopub.status.idle": "2023-11-19T10:20:26.963494Z",
     "shell.execute_reply": "2023-11-19T10:20:26.962456Z"
    },
    "papermill": {
     "duration": 0.765413,
     "end_time": "2023-11-19T10:20:26.965490",
     "exception": false,
     "start_time": "2023-11-19T10:20:26.200077",
     "status": "completed"
    },
    "tags": []
   },
   "outputs": [
    {
     "data": {
      "text/plain": [
       "(25000, 3)"
      ]
     },
     "execution_count": 5,
     "metadata": {},
     "output_type": "execute_result"
    }
   ],
   "source": [
    "train = pd.read_csv(os.path.join(BASE,'labeledTrainData.tsv.zip'), header=0, delimiter=\"\\t\", quoting=3)\n",
    "train.shape"
   ]
  },
  {
   "cell_type": "code",
   "execution_count": 6,
   "id": "1f47f46a",
   "metadata": {
    "execution": {
     "iopub.execute_input": "2023-11-19T10:20:26.980139Z",
     "iopub.status.busy": "2023-11-19T10:20:26.979863Z",
     "iopub.status.idle": "2023-11-19T10:20:27.630430Z",
     "shell.execute_reply": "2023-11-19T10:20:27.629461Z"
    },
    "papermill": {
     "duration": 0.659933,
     "end_time": "2023-11-19T10:20:27.632474",
     "exception": false,
     "start_time": "2023-11-19T10:20:26.972541",
     "status": "completed"
    },
    "tags": []
   },
   "outputs": [
    {
     "data": {
      "text/plain": [
       "(25000, 2)"
      ]
     },
     "execution_count": 6,
     "metadata": {},
     "output_type": "execute_result"
    }
   ],
   "source": [
    "test = pd.read_csv(os.path.join(BASE,'testData.tsv.zip'), header=0, delimiter=\"\\t\", quoting=3)\n",
    "test.shape"
   ]
  },
  {
   "cell_type": "code",
   "execution_count": 7,
   "id": "84f0cb5c",
   "metadata": {
    "execution": {
     "iopub.execute_input": "2023-11-19T10:20:27.647102Z",
     "iopub.status.busy": "2023-11-19T10:20:27.646801Z",
     "iopub.status.idle": "2023-11-19T10:20:27.657885Z",
     "shell.execute_reply": "2023-11-19T10:20:27.657017Z"
    },
    "papermill": {
     "duration": 0.020431,
     "end_time": "2023-11-19T10:20:27.659725",
     "exception": false,
     "start_time": "2023-11-19T10:20:27.639294",
     "status": "completed"
    },
    "tags": []
   },
   "outputs": [
    {
     "name": "stdout",
     "output_type": "stream",
     "text": [
      "1\n"
     ]
    },
    {
     "data": {
      "text/plain": [
       "'\"With all this stuff going down at the moment with MJ i\\'ve started listening to his music, watching the odd documentary here and there, watched The Wiz and watched Moonwalker again. Maybe i just want to get a certain insight into this guy who i thought was really cool in the eighties just to maybe make up my mind whether he is guilty or innocent. Moonwalker is part biography, part feature film which i remember going to see at the cinema when it was originally released. Some of it has subtle messages about MJ\\'s feeling towards the press and also the obvious message of drugs are bad m\\'kay.<br /><br />Visually impressive but of course this is all about Michael Jackson so unless you remotely like MJ in anyway then you are going to hate this and find it boring. Some may call MJ an egotist for consenting to the making of this movie BUT MJ and most of his fans would say that he made it for the fans which if true is really nice of him.<br /><br />The actual feature film bit when it finally starts is only on for 20 minutes or so excluding the Smooth Criminal sequence and Joe Pesci is convincing as a psychopathic all powerful drug lord. Why he wants MJ dead so bad is beyond me. Because MJ overheard his plans? Nah, Joe Pesci\\'s character ranted that he wanted people to know it is he who is supplying drugs etc so i dunno, maybe he just hates MJ\\'s music.<br /><br />Lots of cool things in this like MJ turning into a car and a robot and the whole Speed Demon sequence. Also, the director must have had the patience of a saint when it came to filming the kiddy Bad sequence as usually directors hate working with one kid let alone a whole bunch of them performing a complex dance scene.<br /><br />Bottom line, this movie is for people who like MJ on one level or another (which i think is most people). If not, then stay away. It does try and give off a wholesome message and ironically MJ\\'s bestest buddy in this movie is a girl! Michael Jackson is truly one of the most talented people ever to grace this planet but is he guilty? Well, with all the attention i\\'ve gave this subject....hmmm well i don\\'t know because people can be different behind closed doors, i know this for a fact. He is either an extremely nice but stupid guy or one of the most sickest liars. I hope he is not the latter.\"'"
      ]
     },
     "execution_count": 7,
     "metadata": {},
     "output_type": "execute_result"
    }
   ],
   "source": [
    "print(train[\"sentiment\"][0])\n",
    "train[\"review\"][0]"
   ]
  },
  {
   "cell_type": "code",
   "execution_count": 8,
   "id": "3525d77b",
   "metadata": {
    "execution": {
     "iopub.execute_input": "2023-11-19T10:20:27.674379Z",
     "iopub.status.busy": "2023-11-19T10:20:27.674122Z",
     "iopub.status.idle": "2023-11-19T10:20:50.775963Z",
     "shell.execute_reply": "2023-11-19T10:20:50.774788Z"
    },
    "papermill": {
     "duration": 23.11161,
     "end_time": "2023-11-19T10:20:50.778013",
     "exception": false,
     "start_time": "2023-11-19T10:20:27.666403",
     "status": "completed"
    },
    "tags": []
   },
   "outputs": [
    {
     "name": "stderr",
     "output_type": "stream",
     "text": [
      "/tmp/ipykernel_27/1596635249.py:3: MarkupResemblesLocatorWarning: The input looks more like a filename than markup. You may want to open this file and pass the filehandle into Beautiful Soup.\n",
      "  clean_html = BeautifulSoup(review).get_text()\n"
     ]
    },
    {
     "data": {
      "text/html": [
       "<div>\n",
       "<style scoped>\n",
       "    .dataframe tbody tr th:only-of-type {\n",
       "        vertical-align: middle;\n",
       "    }\n",
       "\n",
       "    .dataframe tbody tr th {\n",
       "        vertical-align: top;\n",
       "    }\n",
       "\n",
       "    .dataframe thead th {\n",
       "        text-align: right;\n",
       "    }\n",
       "</style>\n",
       "<table border=\"1\" class=\"dataframe\">\n",
       "  <thead>\n",
       "    <tr style=\"text-align: right;\">\n",
       "      <th></th>\n",
       "      <th>id</th>\n",
       "      <th>sentiment</th>\n",
       "      <th>review</th>\n",
       "      <th>cleaned_review</th>\n",
       "    </tr>\n",
       "  </thead>\n",
       "  <tbody>\n",
       "    <tr>\n",
       "      <th>0</th>\n",
       "      <td>\"5814_8\"</td>\n",
       "      <td>1</td>\n",
       "      <td>\"With all this stuff going down at the moment ...</td>\n",
       "      <td>stuff going moment mj started listening music ...</td>\n",
       "    </tr>\n",
       "    <tr>\n",
       "      <th>1</th>\n",
       "      <td>\"2381_9\"</td>\n",
       "      <td>1</td>\n",
       "      <td>\"\\\"The Classic War of the Worlds\\\" by Timothy ...</td>\n",
       "      <td>classic war worlds timothy hines entertaining ...</td>\n",
       "    </tr>\n",
       "    <tr>\n",
       "      <th>2</th>\n",
       "      <td>\"7759_3\"</td>\n",
       "      <td>0</td>\n",
       "      <td>\"The film starts with a manager (Nicholas Bell...</td>\n",
       "      <td>film starts manager nicholas bell giving welco...</td>\n",
       "    </tr>\n",
       "    <tr>\n",
       "      <th>3</th>\n",
       "      <td>\"3630_4\"</td>\n",
       "      <td>0</td>\n",
       "      <td>\"It must be assumed that those who praised thi...</td>\n",
       "      <td>must assumed praised film greatest filmed oper...</td>\n",
       "    </tr>\n",
       "    <tr>\n",
       "      <th>4</th>\n",
       "      <td>\"9495_8\"</td>\n",
       "      <td>1</td>\n",
       "      <td>\"Superbly trashy and wondrously unpretentious ...</td>\n",
       "      <td>superbly trashy wondrously unpretentious explo...</td>\n",
       "    </tr>\n",
       "    <tr>\n",
       "      <th>...</th>\n",
       "      <td>...</td>\n",
       "      <td>...</td>\n",
       "      <td>...</td>\n",
       "      <td>...</td>\n",
       "    </tr>\n",
       "    <tr>\n",
       "      <th>24995</th>\n",
       "      <td>\"3453_3\"</td>\n",
       "      <td>0</td>\n",
       "      <td>\"It seems like more consideration has gone int...</td>\n",
       "      <td>seems like consideration gone imdb reviews fil...</td>\n",
       "    </tr>\n",
       "    <tr>\n",
       "      <th>24996</th>\n",
       "      <td>\"5064_1\"</td>\n",
       "      <td>0</td>\n",
       "      <td>\"I don't believe they made this film. Complete...</td>\n",
       "      <td>believe made film completely unnecessary first...</td>\n",
       "    </tr>\n",
       "    <tr>\n",
       "      <th>24997</th>\n",
       "      <td>\"10905_3\"</td>\n",
       "      <td>0</td>\n",
       "      <td>\"Guy is a loser. Can't get girls, needs to bui...</td>\n",
       "      <td>guy loser get girls needs build picked stronge...</td>\n",
       "    </tr>\n",
       "    <tr>\n",
       "      <th>24998</th>\n",
       "      <td>\"10194_3\"</td>\n",
       "      <td>0</td>\n",
       "      <td>\"This 30 minute documentary Buñuel made in the...</td>\n",
       "      <td>minute documentary bu uel made early one spain...</td>\n",
       "    </tr>\n",
       "    <tr>\n",
       "      <th>24999</th>\n",
       "      <td>\"8478_8\"</td>\n",
       "      <td>1</td>\n",
       "      <td>\"I saw this movie as a child and it broke my h...</td>\n",
       "      <td>saw movie child broke heart story unfinished e...</td>\n",
       "    </tr>\n",
       "  </tbody>\n",
       "</table>\n",
       "<p>25000 rows × 4 columns</p>\n",
       "</div>"
      ],
      "text/plain": [
       "              id  sentiment  \\\n",
       "0       \"5814_8\"          1   \n",
       "1       \"2381_9\"          1   \n",
       "2       \"7759_3\"          0   \n",
       "3       \"3630_4\"          0   \n",
       "4       \"9495_8\"          1   \n",
       "...          ...        ...   \n",
       "24995   \"3453_3\"          0   \n",
       "24996   \"5064_1\"          0   \n",
       "24997  \"10905_3\"          0   \n",
       "24998  \"10194_3\"          0   \n",
       "24999   \"8478_8\"          1   \n",
       "\n",
       "                                                  review  \\\n",
       "0      \"With all this stuff going down at the moment ...   \n",
       "1      \"\\\"The Classic War of the Worlds\\\" by Timothy ...   \n",
       "2      \"The film starts with a manager (Nicholas Bell...   \n",
       "3      \"It must be assumed that those who praised thi...   \n",
       "4      \"Superbly trashy and wondrously unpretentious ...   \n",
       "...                                                  ...   \n",
       "24995  \"It seems like more consideration has gone int...   \n",
       "24996  \"I don't believe they made this film. Complete...   \n",
       "24997  \"Guy is a loser. Can't get girls, needs to bui...   \n",
       "24998  \"This 30 minute documentary Buñuel made in the...   \n",
       "24999  \"I saw this movie as a child and it broke my h...   \n",
       "\n",
       "                                          cleaned_review  \n",
       "0      stuff going moment mj started listening music ...  \n",
       "1      classic war worlds timothy hines entertaining ...  \n",
       "2      film starts manager nicholas bell giving welco...  \n",
       "3      must assumed praised film greatest filmed oper...  \n",
       "4      superbly trashy wondrously unpretentious explo...  \n",
       "...                                                  ...  \n",
       "24995  seems like consideration gone imdb reviews fil...  \n",
       "24996  believe made film completely unnecessary first...  \n",
       "24997  guy loser get girls needs build picked stronge...  \n",
       "24998  minute documentary bu uel made early one spain...  \n",
       "24999  saw movie child broke heart story unfinished e...  \n",
       "\n",
       "[25000 rows x 4 columns]"
      ]
     },
     "execution_count": 8,
     "metadata": {},
     "output_type": "execute_result"
    }
   ],
   "source": [
    "stop_words = stopwords.words(\"english\")\n",
    "def clean(review):\n",
    "    clean_html = BeautifulSoup(review).get_text()\n",
    "    clean_non_letters = re.sub(\"[^a-zA-Z]\", \" \", clean_html)\n",
    "    cleaned_lowercase = clean_non_letters.lower()\n",
    "    words = cleaned_lowercase.split()\n",
    "    cleaned_words = [w for w in words if w not in stop_words]\n",
    "    return \" \".join(cleaned_words)\n",
    "\n",
    "train[\"cleaned_review\"] = train[\"review\"].apply(clean)\n",
    "train"
   ]
  },
  {
   "cell_type": "code",
   "execution_count": 9,
   "id": "e828c5cc",
   "metadata": {
    "execution": {
     "iopub.execute_input": "2023-11-19T10:20:50.794047Z",
     "iopub.status.busy": "2023-11-19T10:20:50.793751Z",
     "iopub.status.idle": "2023-11-19T10:20:53.503720Z",
     "shell.execute_reply": "2023-11-19T10:20:53.502716Z"
    },
    "papermill": {
     "duration": 2.720828,
     "end_time": "2023-11-19T10:20:53.506086",
     "exception": false,
     "start_time": "2023-11-19T10:20:50.785258",
     "status": "completed"
    },
    "tags": []
   },
   "outputs": [
    {
     "data": {
      "text/plain": [
       "74066"
      ]
     },
     "execution_count": 9,
     "metadata": {},
     "output_type": "execute_result"
    }
   ],
   "source": [
    "# with no constraints there are 74_066 words in the training set\n",
    "tokenizer = Tokenizer(num_words=MAX_WORDS)\n",
    "tokenizer.fit_on_texts(train.cleaned_review)\n",
    "total_words = len(tokenizer.word_index) + 1\n",
    "total_words"
   ]
  },
  {
   "cell_type": "code",
   "execution_count": 10,
   "id": "65604379",
   "metadata": {
    "execution": {
     "iopub.execute_input": "2023-11-19T10:20:53.522229Z",
     "iopub.status.busy": "2023-11-19T10:20:53.521942Z",
     "iopub.status.idle": "2023-11-19T10:20:55.880050Z",
     "shell.execute_reply": "2023-11-19T10:20:55.879102Z"
    },
    "papermill": {
     "duration": 2.368766,
     "end_time": "2023-11-19T10:20:55.882237",
     "exception": false,
     "start_time": "2023-11-19T10:20:53.513471",
     "status": "completed"
    },
    "tags": []
   },
   "outputs": [
    {
     "name": "stdout",
     "output_type": "stream",
     "text": [
      "(20000, 1322) (20000,) (5000, 1322) (5000,)\n"
     ]
    }
   ],
   "source": [
    "sequences = tokenizer.texts_to_sequences(train.cleaned_review)\n",
    "max_sequence_len = max([len(x) for x in sequences])\n",
    "padded_sequences = np.array(pad_sequences(sequences, maxlen=max_sequence_len, padding='pre'))\n",
    "labels = np.array(train.sentiment)\n",
    "X_train, X_val, y_train, y_val = train_test_split(padded_sequences, labels, test_size=0.2, random_state=0)\n",
    "print(X_train.shape, y_train.shape, X_val.shape, y_val.shape)"
   ]
  },
  {
   "cell_type": "code",
   "execution_count": 11,
   "id": "1695e9e3",
   "metadata": {
    "execution": {
     "iopub.execute_input": "2023-11-19T10:20:55.898812Z",
     "iopub.status.busy": "2023-11-19T10:20:55.898497Z",
     "iopub.status.idle": "2023-11-19T10:21:00.329483Z",
     "shell.execute_reply": "2023-11-19T10:21:00.328693Z"
    },
    "papermill": {
     "duration": 4.441795,
     "end_time": "2023-11-19T10:21:00.331849",
     "exception": false,
     "start_time": "2023-11-19T10:20:55.890054",
     "status": "completed"
    },
    "tags": []
   },
   "outputs": [],
   "source": [
    "def to_dataset(data, labels):\n",
    "    dataset = tf.data.Dataset.from_tensor_slices((data, labels))\n",
    "    dataset = dataset.cache().shuffle(X_train.shape[0] + 1).batch(32).prefetch(tf.data.experimental.AUTOTUNE)\n",
    "    return dataset\n",
    "train_ds = to_dataset(X_train, y_train)\n",
    "val_ds = to_dataset(X_val, y_val)"
   ]
  },
  {
   "cell_type": "code",
   "execution_count": 12,
   "id": "430f62f8",
   "metadata": {
    "execution": {
     "iopub.execute_input": "2023-11-19T10:21:00.348427Z",
     "iopub.status.busy": "2023-11-19T10:21:00.347897Z",
     "iopub.status.idle": "2023-11-19T10:21:00.355586Z",
     "shell.execute_reply": "2023-11-19T10:21:00.354689Z"
    },
    "papermill": {
     "duration": 0.017904,
     "end_time": "2023-11-19T10:21:00.357531",
     "exception": false,
     "start_time": "2023-11-19T10:21:00.339627",
     "status": "completed"
    },
    "tags": []
   },
   "outputs": [],
   "source": [
    "from tensorflow.keras import models, layers\n",
    "\n",
    "LSTM_SIZE = 10\n",
    "\n",
    "def bi_lstm_model(total_words, max_sequence_len):\n",
    "    model = models.Sequential()\n",
    "    model.add(layers.Embedding(total_words, 16, input_length=max_sequence_len))\n",
    "    model.add(layers.Bidirectional(layers.LSTM(LSTM_SIZE, return_sequences=True)))\n",
    "    model.add(layers.Dropout(0.2))\n",
    "    # The second LSTM also needs to return sequences\n",
    "    model.add(layers.Bidirectional(layers.LSTM(LSTM_SIZE, return_sequences=True)))\n",
    "    model.add(layers.Dropout(0.2))\n",
    "    # Flatten the output to feed into the dense layer\n",
    "    model.add(layers.Flatten())\n",
    "    model.add(layers.Dense(16, activation='relu'))\n",
    "    model.add(layers.Dropout(0.2))\n",
    "    # The final layer is a dense layer with a sigmoid activation function for binary classification\n",
    "    model.add(layers.Dense(1, activation='sigmoid'))\n",
    "    model.compile(loss='binary_crossentropy', optimizer='adam', metrics=['binary_accuracy'])\n",
    "    return model, f'bidirectional_lstm_{LSTM_SIZE}'"
   ]
  },
  {
   "cell_type": "code",
   "execution_count": 13,
   "id": "6cf04255",
   "metadata": {
    "execution": {
     "iopub.execute_input": "2023-11-19T10:21:00.373658Z",
     "iopub.status.busy": "2023-11-19T10:21:00.373384Z",
     "iopub.status.idle": "2023-11-19T10:21:00.379341Z",
     "shell.execute_reply": "2023-11-19T10:21:00.378623Z"
    },
    "papermill": {
     "duration": 0.016185,
     "end_time": "2023-11-19T10:21:00.381212",
     "exception": false,
     "start_time": "2023-11-19T10:21:00.365027",
     "status": "completed"
    },
    "tags": []
   },
   "outputs": [],
   "source": [
    "def tokenizer_train(model, name):\n",
    "    reducer = callbacks.ReduceLROnPlateau(monior='val_loss', factor=0.5, patience=3, mode='min', cooldown=1)\n",
    "    stopper = callbacks.EarlyStopping(monitor='val_loss', patience=6, mode='min', restore_best_weights=True)\n",
    "    hist = model.fit(train_ds,\n",
    "              epochs=50,\n",
    "              verbose=1,\n",
    "              callbacks=[stopper, reducer],\n",
    "              validation_data=val_ds)\n",
    "    results = model.evaluate(val_ds)\n",
    "    model.save(f'/kaggle/working/{name}')\n",
    "    print(f\"results: {results}, type: {type(results)}\")\n",
    "    return hist"
   ]
  },
  {
   "cell_type": "code",
   "execution_count": 14,
   "id": "6b89bef2",
   "metadata": {
    "execution": {
     "iopub.execute_input": "2023-11-19T10:21:00.397121Z",
     "iopub.status.busy": "2023-11-19T10:21:00.396854Z",
     "iopub.status.idle": "2023-11-19T10:21:01.782146Z",
     "shell.execute_reply": "2023-11-19T10:21:01.780388Z"
    },
    "papermill": {
     "duration": 1.402976,
     "end_time": "2023-11-19T10:21:01.791477",
     "exception": false,
     "start_time": "2023-11-19T10:21:00.388501",
     "status": "completed"
    },
    "tags": []
   },
   "outputs": [
    {
     "name": "stdout",
     "output_type": "stream",
     "text": [
      "Model: \"sequential\"\n",
      "_________________________________________________________________\n",
      " Layer (type)                Output Shape              Param #   \n",
      "=================================================================\n",
      " embedding (Embedding)       (None, 1322, 16)          1185056   \n",
      "                                                                 \n",
      " bidirectional (Bidirection  (None, 1322, 20)          2160      \n",
      " al)                                                             \n",
      "                                                                 \n",
      " dropout (Dropout)           (None, 1322, 20)          0         \n",
      "                                                                 \n",
      " bidirectional_1 (Bidirecti  (None, 1322, 20)          2480      \n",
      " onal)                                                           \n",
      "                                                                 \n",
      " dropout_1 (Dropout)         (None, 1322, 20)          0         \n",
      "                                                                 \n",
      " flatten (Flatten)           (None, 26440)             0         \n",
      "                                                                 \n",
      " dense (Dense)               (None, 16)                423056    \n",
      "                                                                 \n",
      " dropout_2 (Dropout)         (None, 16)                0         \n",
      "                                                                 \n",
      " dense_1 (Dense)             (None, 1)                 17        \n",
      "                                                                 \n",
      "=================================================================\n",
      "Total params: 1612769 (6.15 MB)\n",
      "Trainable params: 1612769 (6.15 MB)\n",
      "Non-trainable params: 0 (0.00 Byte)\n",
      "_________________________________________________________________\n"
     ]
    }
   ],
   "source": [
    "model, name = bi_lstm_model(total_words,max_sequence_len)\n",
    "model.summary()"
   ]
  },
  {
   "cell_type": "code",
   "execution_count": 15,
   "id": "a981bac4",
   "metadata": {
    "execution": {
     "iopub.execute_input": "2023-11-19T10:21:01.813409Z",
     "iopub.status.busy": "2023-11-19T10:21:01.813107Z",
     "iopub.status.idle": "2023-11-19T10:34:51.993265Z",
     "shell.execute_reply": "2023-11-19T10:34:51.992157Z"
    },
    "papermill": {
     "duration": 830.193438,
     "end_time": "2023-11-19T10:34:51.995482",
     "exception": false,
     "start_time": "2023-11-19T10:21:01.802044",
     "status": "completed"
    },
    "tags": []
   },
   "outputs": [
    {
     "name": "stdout",
     "output_type": "stream",
     "text": [
      "Epoch 1/50\n",
      "625/625 [==============================] - 190s 284ms/step - loss: 0.3709 - binary_accuracy: 0.8280 - val_loss: 0.2668 - val_binary_accuracy: 0.8896 - lr: 0.0010\n",
      "Epoch 2/50\n",
      "625/625 [==============================] - 132s 211ms/step - loss: 0.1616 - binary_accuracy: 0.9433 - val_loss: 0.3104 - val_binary_accuracy: 0.8838 - lr: 0.0010\n",
      "Epoch 3/50\n",
      "625/625 [==============================] - 108s 173ms/step - loss: 0.0852 - binary_accuracy: 0.9710 - val_loss: 0.3981 - val_binary_accuracy: 0.8746 - lr: 0.0010\n",
      "Epoch 4/50\n",
      "625/625 [==============================] - 97s 156ms/step - loss: 0.0498 - binary_accuracy: 0.9828 - val_loss: 0.5548 - val_binary_accuracy: 0.8688 - lr: 0.0010\n",
      "Epoch 5/50\n",
      "625/625 [==============================] - 93s 149ms/step - loss: 0.0147 - binary_accuracy: 0.9956 - val_loss: 0.8392 - val_binary_accuracy: 0.8710 - lr: 5.0000e-04\n",
      "Epoch 6/50\n",
      "625/625 [==============================] - 91s 145ms/step - loss: 0.0035 - binary_accuracy: 0.9991 - val_loss: 1.1609 - val_binary_accuracy: 0.8724 - lr: 5.0000e-04\n",
      "Epoch 7/50\n",
      "625/625 [==============================] - 90s 145ms/step - loss: 0.0024 - binary_accuracy: 0.9992 - val_loss: 1.2811 - val_binary_accuracy: 0.8734 - lr: 5.0000e-04\n",
      "157/157 [==============================] - 9s 55ms/step - loss: 0.2668 - binary_accuracy: 0.8896\n",
      "results: [0.26679834723472595, 0.8895999789237976], type: <class 'list'>\n"
     ]
    }
   ],
   "source": [
    "hist = tokenizer_train(model, name)"
   ]
  },
  {
   "cell_type": "code",
   "execution_count": 16,
   "id": "4648a13d",
   "metadata": {
    "execution": {
     "iopub.execute_input": "2023-11-19T10:34:52.796609Z",
     "iopub.status.busy": "2023-11-19T10:34:52.796237Z",
     "iopub.status.idle": "2023-11-19T10:34:54.461116Z",
     "shell.execute_reply": "2023-11-19T10:34:54.460149Z"
    },
    "papermill": {
     "duration": 2.038041,
     "end_time": "2023-11-19T10:34:54.463450",
     "exception": false,
     "start_time": "2023-11-19T10:34:52.425409",
     "status": "completed"
    },
    "tags": []
   },
   "outputs": [
    {
     "data": {
      "image/png": "[encoded data removed]",
      "text/plain": [
       "<Figure size 800x800 with 3 Axes>"
      ]
     },
     "metadata": {},
     "output_type": "display_data"
    }
   ],
   "source": [
    "fig, axs = plt.subplots(3, 1, figsize=(8,8), tight_layout=True)\n",
    "    \n",
    "axs[0].plot(hist.history['loss'])\n",
    "axs[0].plot(hist.history['val_loss'])\n",
    "axs[0].set_title('binary_crossentropy Loss')\n",
    "axs[0].set_ylabel('Loss')\n",
    "axs[0].set_xlabel('Epoch')\n",
    "axs[0].legend(['train', 'val'], loc='upper right')\n",
    "\n",
    "axs[1].plot(hist.history['binary_accuracy'])\n",
    "axs[1].plot(hist.history['val_binary_accuracy'])\n",
    "axs[1].set_title('binary_accuracy Metric')\n",
    "axs[1].set_ylabel('Error')\n",
    "axs[1].set_xlabel('Epoch')\n",
    "axs[1].legend(['train', 'val'], loc='upper left')\n",
    "\n",
    "axs[2].plot(hist.history['lr'])\n",
    "axs[2].set_title('Learining Rate')\n",
    "axs[2].set_ylabel('LR')\n",
    "axs[2].set_xlabel('Epoch')\n",
    "plt.savefig(f'/kaggle/working/{name}_graphs.png')\n",
    "plt.show()"
   ]
  },
  {
   "cell_type": "code",
   "execution_count": 17,
   "id": "83751242",
   "metadata": {
    "execution": {
     "iopub.execute_input": "2023-11-19T10:34:55.205763Z",
     "iopub.status.busy": "2023-11-19T10:34:55.205054Z",
     "iopub.status.idle": "2023-11-19T10:35:18.046315Z",
     "shell.execute_reply": "2023-11-19T10:35:18.045367Z"
    },
    "papermill": {
     "duration": 23.215264,
     "end_time": "2023-11-19T10:35:18.048598",
     "exception": false,
     "start_time": "2023-11-19T10:34:54.833334",
     "status": "completed"
    },
    "tags": []
   },
   "outputs": [
    {
     "name": "stderr",
     "output_type": "stream",
     "text": [
      "/tmp/ipykernel_27/1596635249.py:3: MarkupResemblesLocatorWarning: The input looks more like a filename than markup. You may want to open this file and pass the filehandle into Beautiful Soup.\n",
      "  clean_html = BeautifulSoup(review).get_text()\n"
     ]
    },
    {
     "data": {
      "text/html": [
       "<div>\n",
       "<style scoped>\n",
       "    .dataframe tbody tr th:only-of-type {\n",
       "        vertical-align: middle;\n",
       "    }\n",
       "\n",
       "    .dataframe tbody tr th {\n",
       "        vertical-align: top;\n",
       "    }\n",
       "\n",
       "    .dataframe thead th {\n",
       "        text-align: right;\n",
       "    }\n",
       "</style>\n",
       "<table border=\"1\" class=\"dataframe\">\n",
       "  <thead>\n",
       "    <tr style=\"text-align: right;\">\n",
       "      <th></th>\n",
       "      <th>id</th>\n",
       "      <th>review</th>\n",
       "      <th>cleaned_review</th>\n",
       "    </tr>\n",
       "  </thead>\n",
       "  <tbody>\n",
       "    <tr>\n",
       "      <th>0</th>\n",
       "      <td>\"12311_10\"</td>\n",
       "      <td>\"Naturally in a film who's main themes are of ...</td>\n",
       "      <td>naturally film main themes mortality nostalgia...</td>\n",
       "    </tr>\n",
       "    <tr>\n",
       "      <th>1</th>\n",
       "      <td>\"8348_2\"</td>\n",
       "      <td>\"This movie is a disaster within a disaster fi...</td>\n",
       "      <td>movie disaster within disaster film full great...</td>\n",
       "    </tr>\n",
       "    <tr>\n",
       "      <th>2</th>\n",
       "      <td>\"5828_4\"</td>\n",
       "      <td>\"All in all, this is a movie for kids. We saw ...</td>\n",
       "      <td>movie kids saw tonight child loved one point k...</td>\n",
       "    </tr>\n",
       "    <tr>\n",
       "      <th>3</th>\n",
       "      <td>\"7186_2\"</td>\n",
       "      <td>\"Afraid of the Dark left me with the impressio...</td>\n",
       "      <td>afraid dark left impression several different ...</td>\n",
       "    </tr>\n",
       "    <tr>\n",
       "      <th>4</th>\n",
       "      <td>\"12128_7\"</td>\n",
       "      <td>\"A very accurate depiction of small time mob l...</td>\n",
       "      <td>accurate depiction small time mob life filmed ...</td>\n",
       "    </tr>\n",
       "    <tr>\n",
       "      <th>...</th>\n",
       "      <td>...</td>\n",
       "      <td>...</td>\n",
       "      <td>...</td>\n",
       "    </tr>\n",
       "    <tr>\n",
       "      <th>24995</th>\n",
       "      <td>\"2155_10\"</td>\n",
       "      <td>\"Sony Pictures Classics, I'm looking at you! S...</td>\n",
       "      <td>sony pictures classics looking sony got rights...</td>\n",
       "    </tr>\n",
       "    <tr>\n",
       "      <th>24996</th>\n",
       "      <td>\"59_10\"</td>\n",
       "      <td>\"I always felt that Ms. Merkerson had never go...</td>\n",
       "      <td>always felt ms merkerson never gotten role fit...</td>\n",
       "    </tr>\n",
       "    <tr>\n",
       "      <th>24997</th>\n",
       "      <td>\"2531_1\"</td>\n",
       "      <td>\"I was so disappointed in this movie. I am ver...</td>\n",
       "      <td>disappointed movie familiar case read mark fuh...</td>\n",
       "    </tr>\n",
       "    <tr>\n",
       "      <th>24998</th>\n",
       "      <td>\"7772_8\"</td>\n",
       "      <td>\"From the opening sequence, filled with black ...</td>\n",
       "      <td>opening sequence filled black white shots remi...</td>\n",
       "    </tr>\n",
       "    <tr>\n",
       "      <th>24999</th>\n",
       "      <td>\"11465_10\"</td>\n",
       "      <td>\"This is a great horror film for people who do...</td>\n",
       "      <td>great horror film people want vomit retching g...</td>\n",
       "    </tr>\n",
       "  </tbody>\n",
       "</table>\n",
       "<p>25000 rows × 3 columns</p>\n",
       "</div>"
      ],
      "text/plain": [
       "               id                                             review  \\\n",
       "0      \"12311_10\"  \"Naturally in a film who's main themes are of ...   \n",
       "1        \"8348_2\"  \"This movie is a disaster within a disaster fi...   \n",
       "2        \"5828_4\"  \"All in all, this is a movie for kids. We saw ...   \n",
       "3        \"7186_2\"  \"Afraid of the Dark left me with the impressio...   \n",
       "4       \"12128_7\"  \"A very accurate depiction of small time mob l...   \n",
       "...           ...                                                ...   \n",
       "24995   \"2155_10\"  \"Sony Pictures Classics, I'm looking at you! S...   \n",
       "24996     \"59_10\"  \"I always felt that Ms. Merkerson had never go...   \n",
       "24997    \"2531_1\"  \"I was so disappointed in this movie. I am ver...   \n",
       "24998    \"7772_8\"  \"From the opening sequence, filled with black ...   \n",
       "24999  \"11465_10\"  \"This is a great horror film for people who do...   \n",
       "\n",
       "                                          cleaned_review  \n",
       "0      naturally film main themes mortality nostalgia...  \n",
       "1      movie disaster within disaster film full great...  \n",
       "2      movie kids saw tonight child loved one point k...  \n",
       "3      afraid dark left impression several different ...  \n",
       "4      accurate depiction small time mob life filmed ...  \n",
       "...                                                  ...  \n",
       "24995  sony pictures classics looking sony got rights...  \n",
       "24996  always felt ms merkerson never gotten role fit...  \n",
       "24997  disappointed movie familiar case read mark fuh...  \n",
       "24998  opening sequence filled black white shots remi...  \n",
       "24999  great horror film people want vomit retching g...  \n",
       "\n",
       "[25000 rows x 3 columns]"
      ]
     },
     "execution_count": 17,
     "metadata": {},
     "output_type": "execute_result"
    }
   ],
   "source": [
    "test[\"cleaned_review\"] = test[\"review\"].apply(clean)\n",
    "test"
   ]
  },
  {
   "cell_type": "code",
   "execution_count": 18,
   "id": "3a7147b5",
   "metadata": {
    "execution": {
     "iopub.execute_input": "2023-11-19T10:35:18.796210Z",
     "iopub.status.busy": "2023-11-19T10:35:18.795823Z",
     "iopub.status.idle": "2023-11-19T10:35:21.782426Z",
     "shell.execute_reply": "2023-11-19T10:35:21.781260Z"
    },
    "papermill": {
     "duration": 3.360372,
     "end_time": "2023-11-19T10:35:21.784501",
     "exception": false,
     "start_time": "2023-11-19T10:35:18.424129",
     "status": "completed"
    },
    "tags": []
   },
   "outputs": [
    {
     "name": "stdout",
     "output_type": "stream",
     "text": [
      "(25000, 1322)\n"
     ]
    }
   ],
   "source": [
    "sequences = tokenizer.texts_to_sequences(test.cleaned_review)\n",
    "test_sequences = np.array(pad_sequences(sequences, maxlen=max_sequence_len, padding='pre'))\n",
    "print(test_sequences.shape)"
   ]
  },
  {
   "cell_type": "code",
   "execution_count": 19,
   "id": "615afdf5",
   "metadata": {
    "execution": {
     "iopub.execute_input": "2023-11-19T10:35:22.574325Z",
     "iopub.status.busy": "2023-11-19T10:35:22.573629Z",
     "iopub.status.idle": "2023-11-19T10:36:06.983934Z",
     "shell.execute_reply": "2023-11-19T10:36:06.982794Z"
    },
    "papermill": {
     "duration": 44.829159,
     "end_time": "2023-11-19T10:36:06.986373",
     "exception": false,
     "start_time": "2023-11-19T10:35:22.157214",
     "status": "completed"
    },
    "tags": []
   },
   "outputs": [
    {
     "name": "stdout",
     "output_type": "stream",
     "text": [
      "782/782 [==============================] - 44s 54ms/step\n"
     ]
    }
   ],
   "source": [
    "predictions = model.predict(test_sequences).flatten()"
   ]
  },
  {
   "cell_type": "code",
   "execution_count": 20,
   "id": "2709e44c",
   "metadata": {
    "execution": {
     "iopub.execute_input": "2023-11-19T10:36:07.875024Z",
     "iopub.status.busy": "2023-11-19T10:36:07.874626Z",
     "iopub.status.idle": "2023-11-19T10:36:07.880629Z",
     "shell.execute_reply": "2023-11-19T10:36:07.879785Z"
    },
    "papermill": {
     "duration": 0.451765,
     "end_time": "2023-11-19T10:36:07.882690",
     "exception": false,
     "start_time": "2023-11-19T10:36:07.430925",
     "status": "completed"
    },
    "tags": []
   },
   "outputs": [
    {
     "data": {
      "text/plain": [
       "(25000,)"
      ]
     },
     "execution_count": 20,
     "metadata": {},
     "output_type": "execute_result"
    }
   ],
   "source": [
    "predictions.shape"
   ]
  },
  {
   "cell_type": "code",
   "execution_count": 21,
   "id": "36ce5bb0",
   "metadata": {
    "execution": {
     "iopub.execute_input": "2023-11-19T10:36:08.812829Z",
     "iopub.status.busy": "2023-11-19T10:36:08.812345Z",
     "iopub.status.idle": "2023-11-19T10:36:08.885748Z",
     "shell.execute_reply": "2023-11-19T10:36:08.884793Z"
    },
    "papermill": {
     "duration": 0.563039,
     "end_time": "2023-11-19T10:36:08.887681",
     "exception": false,
     "start_time": "2023-11-19T10:36:08.324642",
     "status": "completed"
    },
    "tags": []
   },
   "outputs": [],
   "source": [
    "output = pd.DataFrame(data={\"id\":test.id, \"sentiment\":predictions})\n",
    "output.to_csv(\"submission.csv\", index=False, quoting=3)"
   ]
  }
 ],
 "metadata": {
  "kaggle": {
   "accelerator": "nvidiaTeslaT4",
   "dataSources": [
    {
     "databundleVersionId": 32703,
     "sourceId": 3971,
     "sourceType": "competition"
    }
   ],
   "dockerImageVersionId": 30588,
   "isGpuEnabled": true,
   "isInternetEnabled": true,
   "language": "python",
   "sourceType": "notebook"
  },
  "kernelspec": {
   "display_name": "Python 3",
   "language": "python",
   "name": "python3"
  },
  "language_info": {
   "codemirror_mode": {
    "name": "ipython",
    "version": 3
   },
   "file_extension": ".py",
   "mimetype": "text/x-python",
   "name": "python",
   "nbconvert_exporter": "python",
   "pygments_lexer": "ipython3",
   "version": "3.10.12"
  },
  "papermill": {
   "default_parameters": {},
   "duration": 965.168125,
   "end_time": "2023-11-19T10:36:12.354328",
   "environment_variables": {},
   "exception": null,
   "input_path": "__notebook__.ipynb",
   "output_path": "__notebook__.ipynb",
   "parameters": {},
   "start_time": "2023-11-19T10:20:07.186203",
   "version": "2.4.0"
  }
 },
 "nbformat": 4,
 "nbformat_minor": 5
}
